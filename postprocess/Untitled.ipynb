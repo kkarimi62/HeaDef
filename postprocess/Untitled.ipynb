{
 "cells": [
  {
   "cell_type": "code",
   "execution_count": 41,
   "id": "35d5b050",
   "metadata": {},
   "outputs": [
    {
     "name": "stdout",
     "output_type": "stream",
     "text": [
      "InputFile= /Users/Home/Desktop/Tmp/txt/dump_init.xyz\n",
      "num_frames= 1\n",
      "InputFile= /Users/Home/Desktop/Tmp/txt/dump_def1.xyz\n",
      "num_frames= 1\n",
      "InputFile= /Users/Home/Desktop/Tmp/txt/dump_def2.xyz\n",
      "num_frames= 1\n",
      "InputFile= /Users/Home/Desktop/Tmp/txt/dump_def3.xyz\n",
      "num_frames= 1\n",
      "InputFile= /Users/Home/Desktop/Tmp/txt/dump_def4.xyz\n",
      "num_frames= 1\n",
      "InputFile= /Users/Home/Desktop/Tmp/txt/dump_def5.xyz\n",
      "num_frames= 1\n",
      "InputFile= /Users/Home/Desktop/Tmp/txt/dump_def6.xyz\n",
      "num_frames= 1\n"
     ]
    }
   ],
   "source": [
    "import LammpsPostProcess as lp\n",
    "import sys\n",
    "import numpy as np\n",
    "import pandas as pd\n",
    "\n",
    "\n",
    "def GetAtoms( filee ):\n",
    "    lmpData = lp.ReadDumpFile( filee )\n",
    "    lmpData.GetCords( ncount = sys.maxsize, \n",
    "                     columns = {'c_peratom[1]':'sxx','c_peratom[2]':'syy','c_peratom[3]':'szz',\n",
    "                                                       'c_peratom[4]':'sxy','c_peratom[5]':'sxz','c_peratom[6]':'syz'}\n",
    "                    )\n",
    "    itimee=np.sum(list(lmpData.coord_atoms_broken.keys()))\n",
    "\n",
    "    #--- volume\n",
    "    rad1=0.0#AtomicRadius[1]\n",
    "    rad2=0.0#AtomicRadius[2]\n",
    "    rad3=0.0#AtomicRadius[3]\n",
    "    !ovitos OvitosCna.py $filee Voronoi.xyz 1 3 $rad1 $rad2 $rad3  \n",
    "#--- read from d2min.xyz\n",
    "    ovtData = lp.ReadDumpFile( 'Voronoi.xyz' )\n",
    "    ovtData.GetCords( ncount = sys.maxsize)\n",
    "    #--- atom obj\n",
    "    box0 = lp.Box( BoxBounds = lmpData.BoxBounds[itimee], AddMissing = np.array([0.0,0.0,0.0] ) ) #--- reference state\n",
    "    atoms0 = lp.Atoms( **lmpData.coord_atoms_broken[itimee].to_dict(orient='series'),\n",
    "                        AtomicVolume = ovtData.coord_atoms_broken[itimee]['AtomicVolume'].tolist())\n",
    "\n",
    "    return atoms0, box0\n",
    "\n",
    "\n",
    "path = '/Users/Home/Desktop/Tmp/txt'\n",
    "\n",
    "atoms0, box0 = GetAtoms( '%s/dump_init.xyz'%path )\n",
    "\n",
    "atomd = {}\n",
    "boxd = {}\n",
    "for dir, mode in zip(range(1,7),['xx','yy','zz','yz','xz','xy']):\n",
    "    atomd[mode], boxd[mode] = GetAtoms( '%s/dump_def%s.xyz'%(path,dir) )\n"
   ]
  },
  {
   "cell_type": "code",
   "execution_count": 42,
   "id": "8e6b86aa",
   "metadata": {},
   "outputs": [
    {
     "data": {
      "text/plain": [
       "{'xx': -1.0000000000292e-06,\n",
       " 'yy': -1.0000000000292e-06,\n",
       " 'zz': -1.0000000000292e-06,\n",
       " 'yz': -1.0000000000292e-06,\n",
       " 'xz': -1.0000000000292e-06,\n",
       " 'xy': -1.0000000000000014e-06}"
      ]
     },
     "execution_count": 42,
     "metadata": {},
     "output_type": "execute_result"
    }
   ],
   "source": [
    "ebulk = {}\n",
    "for dir, mode in zip(range(1,7),['xx','yy','zz','yz','xz','xy']):\n",
    "    if dir == 1 or dir == 2 or dir == 3:\n",
    "        indxi = dir - 1\n",
    "        indxj = dir - 1\n",
    "    elif dir == 6: #--- xy\n",
    "        indxi = 0\n",
    "        indxj = 1\n",
    "#    boxd[dir].__dict__\n",
    "    dx=boxd[mode].CellVector[indxi,indxj]-box0.CellVector[indxi,indxj]\n",
    "    l0=box0.CellVector[indxj,indxj]\n",
    "        \n",
    "    ebulk[mode] = dx/l0    \n",
    "ebulk['yz']=ebulk['xz']=ebulk['xx']\n",
    "ebulk"
   ]
  },
  {
   "cell_type": "code",
   "execution_count": 56,
   "id": "e93a4f67",
   "metadata": {},
   "outputs": [
    {
     "data": {
      "text/html": [
       "<div>\n",
       "<style scoped>\n",
       "    .dataframe tbody tr th:only-of-type {\n",
       "        vertical-align: middle;\n",
       "    }\n",
       "\n",
       "    .dataframe tbody tr th {\n",
       "        vertical-align: top;\n",
       "    }\n",
       "\n",
       "    .dataframe thead th {\n",
       "        text-align: right;\n",
       "    }\n",
       "</style>\n",
       "<table border=\"1\" class=\"dataframe\">\n",
       "  <thead>\n",
       "    <tr style=\"text-align: right;\">\n",
       "      <th></th>\n",
       "      <th>x</th>\n",
       "      <th>y</th>\n",
       "      <th>z</th>\n",
       "      <th>id</th>\n",
       "      <th>type</th>\n",
       "      <th>sxx</th>\n",
       "      <th>syy</th>\n",
       "      <th>szz</th>\n",
       "      <th>sxy</th>\n",
       "      <th>sxz</th>\n",
       "      <th>syz</th>\n",
       "      <th>AtomicVolume</th>\n",
       "      <th>C66</th>\n",
       "    </tr>\n",
       "  </thead>\n",
       "  <tbody>\n",
       "    <tr>\n",
       "      <th>0</th>\n",
       "      <td>0.258138</td>\n",
       "      <td>0.242737</td>\n",
       "      <td>0.251894</td>\n",
       "      <td>1.0</td>\n",
       "      <td>1.0</td>\n",
       "      <td>-7.769299e+05</td>\n",
       "      <td>-969942.534622</td>\n",
       "      <td>-1.098112e+06</td>\n",
       "      <td>22041.865025</td>\n",
       "      <td>-31496.315019</td>\n",
       "      <td>104012.472208</td>\n",
       "      <td>11.293896</td>\n",
       "      <td>107.338991</td>\n",
       "    </tr>\n",
       "    <tr>\n",
       "      <th>1</th>\n",
       "      <td>2.037498</td>\n",
       "      <td>2.023144</td>\n",
       "      <td>0.267614</td>\n",
       "      <td>2.0</td>\n",
       "      <td>2.0</td>\n",
       "      <td>-4.802053e+05</td>\n",
       "      <td>-443409.412469</td>\n",
       "      <td>-2.919157e+05</td>\n",
       "      <td>-58062.679538</td>\n",
       "      <td>-47039.216978</td>\n",
       "      <td>-545.914921</td>\n",
       "      <td>11.097994</td>\n",
       "      <td>83.783392</td>\n",
       "    </tr>\n",
       "    <tr>\n",
       "      <th>2</th>\n",
       "      <td>2.031325</td>\n",
       "      <td>0.253223</td>\n",
       "      <td>2.019011</td>\n",
       "      <td>3.0</td>\n",
       "      <td>2.0</td>\n",
       "      <td>5.008137e+05</td>\n",
       "      <td>827812.699455</td>\n",
       "      <td>9.608523e+04</td>\n",
       "      <td>-98459.162158</td>\n",
       "      <td>-204027.283398</td>\n",
       "      <td>-184863.854717</td>\n",
       "      <td>11.214992</td>\n",
       "      <td>98.460430</td>\n",
       "    </tr>\n",
       "    <tr>\n",
       "      <th>3</th>\n",
       "      <td>0.208169</td>\n",
       "      <td>2.010810</td>\n",
       "      <td>2.020765</td>\n",
       "      <td>4.0</td>\n",
       "      <td>3.0</td>\n",
       "      <td>1.166600e+06</td>\n",
       "      <td>610000.885685</td>\n",
       "      <td>1.495074e+06</td>\n",
       "      <td>284494.072611</td>\n",
       "      <td>-231480.080211</td>\n",
       "      <td>100802.606276</td>\n",
       "      <td>11.212058</td>\n",
       "      <td>94.772069</td>\n",
       "    </tr>\n",
       "    <tr>\n",
       "      <th>4</th>\n",
       "      <td>3.824685</td>\n",
       "      <td>0.228028</td>\n",
       "      <td>0.294745</td>\n",
       "      <td>5.0</td>\n",
       "      <td>2.0</td>\n",
       "      <td>-2.681080e+05</td>\n",
       "      <td>36221.936545</td>\n",
       "      <td>-5.555507e+05</td>\n",
       "      <td>-153669.544203</td>\n",
       "      <td>65723.695625</td>\n",
       "      <td>89024.259670</td>\n",
       "      <td>11.122129</td>\n",
       "      <td>101.206838</td>\n",
       "    </tr>\n",
       "  </tbody>\n",
       "</table>\n",
       "</div>"
      ],
      "text/plain": [
       "          x         y         z   id  type           sxx            syy  \\\n",
       "0  0.258138  0.242737  0.251894  1.0   1.0 -7.769299e+05 -969942.534622   \n",
       "1  2.037498  2.023144  0.267614  2.0   2.0 -4.802053e+05 -443409.412469   \n",
       "2  2.031325  0.253223  2.019011  3.0   2.0  5.008137e+05  827812.699455   \n",
       "3  0.208169  2.010810  2.020765  4.0   3.0  1.166600e+06  610000.885685   \n",
       "4  3.824685  0.228028  0.294745  5.0   2.0 -2.681080e+05   36221.936545   \n",
       "\n",
       "            szz            sxy            sxz            syz  AtomicVolume  \\\n",
       "0 -1.098112e+06   22041.865025  -31496.315019  104012.472208     11.293896   \n",
       "1 -2.919157e+05  -58062.679538  -47039.216978    -545.914921     11.097994   \n",
       "2  9.608523e+04  -98459.162158 -204027.283398 -184863.854717     11.214992   \n",
       "3  1.495074e+06  284494.072611 -231480.080211  100802.606276     11.212058   \n",
       "4 -5.555507e+05 -153669.544203   65723.695625   89024.259670     11.122129   \n",
       "\n",
       "          C66  \n",
       "0  107.338991  \n",
       "1   83.783392  \n",
       "2   98.460430  \n",
       "3   94.772069  \n",
       "4  101.206838  "
      ]
     },
     "execution_count": 56,
     "metadata": {},
     "output_type": "execute_result"
    }
   ],
   "source": [
    "pd.DataFrame(atomm.__dict__).head()"
   ]
  },
  {
   "cell_type": "code",
   "execution_count": 45,
   "id": "cb0097bd",
   "metadata": {},
   "outputs": [],
   "source": [
    "cfac = 1.0e-4\n",
    "dxx={}\n",
    "dyy={}\n",
    "dzz={}\n",
    "dyz={}\n",
    "dxz={}\n",
    "dxy={}\n",
    "for mode in ['xx','yy','zz','yz','xz','xy']:\n",
    "    dxx[mode]=(atomd[mode].sxx/atomd[mode].AtomicVolume-atoms0.sxx/atoms0.AtomicVolume)/ebulk[mode]*cfac\n",
    "    dyy[mode]=(atomd[mode].syy/atomd[mode].AtomicVolume-atoms0.syy/atoms0.AtomicVolume)/ebulk[mode]*cfac\n",
    "    dzz[mode]=(atomd[mode].szz/atomd[mode].AtomicVolume-atoms0.szz/atoms0.AtomicVolume)/ebulk[mode]*cfac\n",
    "    dyz[mode]=(atomd[mode].syz/atomd[mode].AtomicVolume-atoms0.syz/atoms0.AtomicVolume)/ebulk[mode]*cfac\n",
    "    dxz[mode]=(atomd[mode].sxz/atomd[mode].AtomicVolume-atoms0.sxz/atoms0.AtomicVolume)/ebulk[mode]*cfac\n",
    "    dxy[mode]=(atomd[mode].sxy/atomd[mode].AtomicVolume-atoms0.sxy/atoms0.AtomicVolume)/ebulk[mode]*cfac"
   ]
  },
  {
   "cell_type": "code",
   "execution_count": 48,
   "id": "52cd9039",
   "metadata": {},
   "outputs": [
    {
     "data": {
      "text/plain": [
       "(1, 1)"
      ]
     },
     "execution_count": 48,
     "metadata": {},
     "output_type": "execute_result"
    }
   ],
   "source": [
    "np.c_[atoms0].shape"
   ]
  },
  {
   "cell_type": "code",
   "execution_count": 58,
   "id": "ffe684ae",
   "metadata": {},
   "outputs": [],
   "source": [
    "df=pd.DataFrame(atoms0.__dict__)\n",
    "cols = list(df.keys())+['C66']\n",
    "df = pd.DataFrame(np.c_[df,dxy['xy']],columns=cols)\n",
    "atomm = lp.Atoms(**df)\n",
    "wd = lp.WriteDumpFile(atomm, box0)\n",
    "wd.Write('dump.xyz',attrs=cols)"
   ]
  },
  {
   "cell_type": "code",
   "execution_count": null,
   "id": "5a63340b",
   "metadata": {},
   "outputs": [],
   "source": []
  }
 ],
 "metadata": {
  "kernelspec": {
   "display_name": "Python 3",
   "language": "python",
   "name": "python3"
  },
  "language_info": {
   "codemirror_mode": {
    "name": "ipython",
    "version": 3
   },
   "file_extension": ".py",
   "mimetype": "text/x-python",
   "name": "python",
   "nbconvert_exporter": "python",
   "pygments_lexer": "ipython3",
   "version": "3.9.5"
  }
 },
 "nbformat": 4,
 "nbformat_minor": 5
}
