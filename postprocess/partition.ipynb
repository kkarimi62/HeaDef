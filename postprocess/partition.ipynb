{
 "cells": [
  {
   "cell_type": "code",
   "execution_count": 26,
   "id": "37fa5e11",
   "metadata": {},
   "outputs": [
    {
     "data": {
      "text/plain": [
       "<module 'LammpsPostProcess' from '/Users/Home/Desktop/Tmp/txt/git/HeaDef/postprocess/LammpsPostProcess.py'>"
      ]
     },
     "execution_count": 26,
     "metadata": {},
     "output_type": "execute_result"
    }
   ],
   "source": [
    "import numpy as np\n",
    "import pandas as pd\n",
    "import pdb\n",
    "\n",
    "import LammpsPostProcess as lp\n",
    "import imp\n",
    "imp.reload(lp)"
   ]
  },
  {
   "cell_type": "code",
   "execution_count": null,
   "id": "290d36c6",
   "metadata": {},
   "outputs": [],
   "source": [
    "#--- comment out if no parameter is passed as an env. variable\n",
    "env_vars = !cat .env\n",
    "for var in env_vars:\n",
    "    key, value = var.split('=')\n",
    "    os.environ[key] = value\n",
    "\n",
    "path = os.environ.get('path') #--- don't comment!\n",
    "fileName = os.environ.get('fileName')\n",
    "dmean = float(os.environ.get('dmean'))"
   ]
  },
  {
   "cell_type": "code",
   "execution_count": 33,
   "id": "faf3a628",
   "metadata": {},
   "outputs": [],
   "source": [
    "#fileName = 'data_init.txt'\n",
    "#dmean = 10.0\n",
    "\n",
    "#--- read data file\n",
    "lmpData = lp.ReadDumpFile( '%s/%s'%(path,fileName ) ) \n",
    "lmpData.ReadData()\n",
    "#--- atom obj\n",
    "atoms = lp.Atoms( **lmpData.coord_atoms_broken[0].to_dict(orient='series') )\n",
    "#--- box\n",
    "box = lp.Box( BoxBounds = lmpData.BoxBounds[0],AddMissing = np.array([0.0,0.0,0.0] ) )\n"
   ]
  },
  {
   "cell_type": "code",
   "execution_count": 29,
   "id": "77f8eb7a",
   "metadata": {},
   "outputs": [
    {
     "data": {
      "text/html": [
       "<div>\n",
       "<style scoped>\n",
       "    .dataframe tbody tr th:only-of-type {\n",
       "        vertical-align: middle;\n",
       "    }\n",
       "\n",
       "    .dataframe tbody tr th {\n",
       "        vertical-align: top;\n",
       "    }\n",
       "\n",
       "    .dataframe thead th {\n",
       "        text-align: right;\n",
       "    }\n",
       "</style>\n",
       "<table border=\"1\" class=\"dataframe\">\n",
       "  <thead>\n",
       "    <tr style=\"text-align: right;\">\n",
       "      <th></th>\n",
       "      <th>x</th>\n",
       "      <th>y</th>\n",
       "      <th>z</th>\n",
       "      <th>id</th>\n",
       "      <th>type</th>\n",
       "    </tr>\n",
       "  </thead>\n",
       "  <tbody>\n",
       "    <tr>\n",
       "      <th>0</th>\n",
       "      <td>0.258138</td>\n",
       "      <td>0.242737</td>\n",
       "      <td>0.251894</td>\n",
       "      <td>1</td>\n",
       "      <td>1</td>\n",
       "    </tr>\n",
       "    <tr>\n",
       "      <th>1</th>\n",
       "      <td>2.037498</td>\n",
       "      <td>2.023144</td>\n",
       "      <td>0.267614</td>\n",
       "      <td>2</td>\n",
       "      <td>2</td>\n",
       "    </tr>\n",
       "    <tr>\n",
       "      <th>2</th>\n",
       "      <td>2.031325</td>\n",
       "      <td>0.253223</td>\n",
       "      <td>2.019011</td>\n",
       "      <td>3</td>\n",
       "      <td>2</td>\n",
       "    </tr>\n",
       "    <tr>\n",
       "      <th>3</th>\n",
       "      <td>0.208169</td>\n",
       "      <td>2.010810</td>\n",
       "      <td>2.020765</td>\n",
       "      <td>4</td>\n",
       "      <td>3</td>\n",
       "    </tr>\n",
       "    <tr>\n",
       "      <th>4</th>\n",
       "      <td>3.824685</td>\n",
       "      <td>0.228028</td>\n",
       "      <td>0.294745</td>\n",
       "      <td>5</td>\n",
       "      <td>2</td>\n",
       "    </tr>\n",
       "    <tr>\n",
       "      <th>...</th>\n",
       "      <td>...</td>\n",
       "      <td>...</td>\n",
       "      <td>...</td>\n",
       "      <td>...</td>\n",
       "      <td>...</td>\n",
       "    </tr>\n",
       "    <tr>\n",
       "      <th>859</th>\n",
       "      <td>14.475045</td>\n",
       "      <td>19.792796</td>\n",
       "      <td>19.889660</td>\n",
       "      <td>860</td>\n",
       "      <td>3</td>\n",
       "    </tr>\n",
       "    <tr>\n",
       "      <th>860</th>\n",
       "      <td>18.014280</td>\n",
       "      <td>18.000933</td>\n",
       "      <td>18.041932</td>\n",
       "      <td>861</td>\n",
       "      <td>2</td>\n",
       "    </tr>\n",
       "    <tr>\n",
       "      <th>861</th>\n",
       "      <td>19.823891</td>\n",
       "      <td>19.773882</td>\n",
       "      <td>18.023069</td>\n",
       "      <td>862</td>\n",
       "      <td>1</td>\n",
       "    </tr>\n",
       "    <tr>\n",
       "      <th>862</th>\n",
       "      <td>19.830889</td>\n",
       "      <td>18.031728</td>\n",
       "      <td>19.816855</td>\n",
       "      <td>863</td>\n",
       "      <td>2</td>\n",
       "    </tr>\n",
       "    <tr>\n",
       "      <th>863</th>\n",
       "      <td>18.048074</td>\n",
       "      <td>19.771821</td>\n",
       "      <td>19.814952</td>\n",
       "      <td>864</td>\n",
       "      <td>1</td>\n",
       "    </tr>\n",
       "  </tbody>\n",
       "</table>\n",
       "<p>864 rows × 5 columns</p>\n",
       "</div>"
      ],
      "text/plain": [
       "             x          y          z   id  type\n",
       "0     0.258138   0.242737   0.251894    1     1\n",
       "1     2.037498   2.023144   0.267614    2     2\n",
       "2     2.031325   0.253223   2.019011    3     2\n",
       "3     0.208169   2.010810   2.020765    4     3\n",
       "4     3.824685   0.228028   0.294745    5     2\n",
       "..         ...        ...        ...  ...   ...\n",
       "859  14.475045  19.792796  19.889660  860     3\n",
       "860  18.014280  18.000933  18.041932  861     2\n",
       "861  19.823891  19.773882  18.023069  862     1\n",
       "862  19.830889  18.031728  19.816855  863     2\n",
       "863  18.048074  19.771821  19.814952  864     1\n",
       "\n",
       "[864 rows x 5 columns]"
      ]
     },
     "execution_count": 29,
     "metadata": {},
     "output_type": "execute_result"
    }
   ],
   "source": [
    "pd.DataFrame(atoms.__dict__)"
   ]
  },
  {
   "cell_type": "code",
   "execution_count": 24,
   "id": "f04033ea",
   "metadata": {},
   "outputs": [
    {
     "data": {
      "text/plain": [
       "array([[21.33405216,  0.        ,  0.        ],\n",
       "       [ 0.        , 21.33405216,  0.        ],\n",
       "       [ 0.        ,  0.        , 21.33405216]])"
      ]
     },
     "execution_count": 24,
     "metadata": {},
     "output_type": "execute_result"
    }
   ],
   "source": [
    "box.CellVector"
   ]
  },
  {
   "cell_type": "code",
   "execution_count": 32,
   "id": "169526a5",
   "metadata": {},
   "outputs": [
    {
     "name": "stdout",
     "output_type": "stream",
     "text": [
      "10.0 8\n"
     ]
    }
   ],
   "source": [
    "def Partition( atoms,box, dmean ):\n",
    "#    pdb.set_trace()\n",
    "    #--- grid: tiling mapped box with original size\n",
    "    (xlin, ylin, zlin), (xv, yv, zv) = lp.GetCubicGrid( box.CellOrigin, \n",
    "                                                     box.CellVector, \n",
    "                                                     dmean,\n",
    "                                                     margin = 0.0 * dmean, odd = False )\n",
    "    xi = np.array(list(zip(xv.flatten(), yv.flatten(), zv.flatten())))\n",
    "    dvol = (xlin[1]-xlin[0])*(ylin[1]-ylin[0])*(zlin[1]-zlin[0])\n",
    "    (ny,nx,nz) = xv.shape\n",
    "    nx -= 1\n",
    "    ny -= 1\n",
    "    nz -= 1\n",
    "    assert nx*ny*nz >= 8, 'decrease division length!'\n",
    "    print(dmean,nx*ny*nz)\n",
    "\n",
    "    #--- partition box & assign index to each atom\n",
    "    wrap = lp.Wrap(atoms,box)\n",
    "    wrap.WrapCoord() #--- wrap inside\n",
    "    wrap.Set(atoms)\n",
    "    assert np.sum(wrap.isInside()) == len(atoms.x)\n",
    "    wrap.GetDimensionlessCords()\n",
    "    AtomCellId = (wrap.beta * np.array([nx,ny,nz])).astype(int)\n",
    "    #--- store in a df\n",
    "    df = pd.DataFrame(np.c_[pd.DataFrame(atoms.__dict__),AtomCellId],\n",
    "                         columns=list(pd.DataFrame(atoms.__dict__).keys())+['ix','iy','iz'])\n",
    "    #--- group & compute p and c\n",
    "    d = df.groupby(by=['ix','iy','iz']).groups #--- key = cell id, value = list of atoms inside\n",
    "#     print(len(d))\n",
    "    assert len(d) == nx*ny*nz, 'empty boxes!'\n",
    "    keys = d.keys()\n",
    "#     pdb.set_trace()\n",
    "    \n",
    "    #--- output as additional lammps script\n",
    "    count = 0\n",
    "    for key in keys:\n",
    "        sfile=open('ScriptGroup.%s.txt'%count,'w')\n",
    "        sfile.write('group freeGr id\\t')\n",
    "        atomf = df.iloc[d[key]]\n",
    "        for i in atomf.id:\n",
    "            sfile.write('%i\\t'%i)\n",
    "        sfile.write('\\ngroup frozGr subtract all freeGr')\n",
    "        sfile.close()\n",
    "        count += 1\n",
    "    \n",
    "\n",
    "Partition( atoms,box, dmean )"
   ]
  },
  {
   "cell_type": "code",
   "execution_count": null,
   "id": "bf487605",
   "metadata": {},
   "outputs": [],
   "source": []
  }
 ],
 "metadata": {
  "kernelspec": {
   "display_name": "Python 3",
   "language": "python",
   "name": "python3"
  },
  "language_info": {
   "codemirror_mode": {
    "name": "ipython",
    "version": 3
   },
   "file_extension": ".py",
   "mimetype": "text/x-python",
   "name": "python",
   "nbconvert_exporter": "python",
   "pygments_lexer": "ipython3",
   "version": "3.9.5"
  }
 },
 "nbformat": 4,
 "nbformat_minor": 5
}
